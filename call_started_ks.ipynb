{
 "cells": [
  {
   "attachments": {},
   "cell_type": "markdown",
   "metadata": {},
   "source": [
    "# Teste de Aderência em Coluna call_started"
   ]
  },
  {
   "cell_type": "code",
   "execution_count": 41,
   "metadata": {},
   "outputs": [],
   "source": [
    "import statistics as st\n",
    "import matplotlib.pyplot as plt\n",
    "import numpy as np\n",
    "import pandas as pd\n",
    "from datetime import datetime\n",
    "\n",
    "import math\n",
    "\n",
    "import scipy.stats as sp"
   ]
  },
  {
   "cell_type": "code",
   "execution_count": 42,
   "metadata": {},
   "outputs": [
    {
     "data": {
      "text/plain": [
       "'\\n%%capture\\n!sudo apt install cm-super dvipng texlive-latex-extra texlive-latex-recommended\\n\\nplt.rcParams.update({\"text.usetex\":True})\\nplt.rcParams[\"font.family\"] = \"Times New Roman\"\\n'"
      ]
     },
     "execution_count": 42,
     "metadata": {},
     "output_type": "execute_result"
    }
   ],
   "source": [
    "\"\"\" código utilizado no Google Colab para geração de imagens em LaTeX\n",
    "%%capture\n",
    "!sudo apt install cm-super dvipng texlive-latex-extra texlive-latex-recommended\n",
    "\n",
    "plt.rcParams.update({\"text.usetex\":True})\n",
    "plt.rcParams[\"font.family\"] = \"Times New Roman\"\n",
    "\"\"\""
   ]
  },
  {
   "attachments": {},
   "cell_type": "markdown",
   "metadata": {},
   "source": [
    "## 1. Leitura da Base de Dados"
   ]
  },
  {
   "cell_type": "code",
   "execution_count": 43,
   "metadata": {},
   "outputs": [
    {
     "data": {
      "text/html": [
       "<div>\n",
       "<style scoped>\n",
       "    .dataframe tbody tr th:only-of-type {\n",
       "        vertical-align: middle;\n",
       "    }\n",
       "\n",
       "    .dataframe tbody tr th {\n",
       "        vertical-align: top;\n",
       "    }\n",
       "\n",
       "    .dataframe thead th {\n",
       "        text-align: right;\n",
       "    }\n",
       "</style>\n",
       "<table border=\"1\" class=\"dataframe\">\n",
       "  <thead>\n",
       "    <tr style=\"text-align: right;\">\n",
       "      <th></th>\n",
       "      <th>call_id</th>\n",
       "      <th>date</th>\n",
       "      <th>daily_caller</th>\n",
       "      <th>call_started</th>\n",
       "      <th>call_answered</th>\n",
       "      <th>call_ended</th>\n",
       "      <th>wait_length</th>\n",
       "      <th>service_length</th>\n",
       "      <th>meets_standard</th>\n",
       "    </tr>\n",
       "  </thead>\n",
       "  <tbody>\n",
       "    <tr>\n",
       "      <th>17737</th>\n",
       "      <td>17738</td>\n",
       "      <td>2021-06-07</td>\n",
       "      <td>17</td>\n",
       "      <td>8:38:01 AM</td>\n",
       "      <td>8:38:01 AM</td>\n",
       "      <td>8:40:33 AM</td>\n",
       "      <td>0</td>\n",
       "      <td>152</td>\n",
       "      <td>True</td>\n",
       "    </tr>\n",
       "    <tr>\n",
       "      <th>13331</th>\n",
       "      <td>13332</td>\n",
       "      <td>2021-05-03</td>\n",
       "      <td>16</td>\n",
       "      <td>8:55:30 AM</td>\n",
       "      <td>8:55:30 AM</td>\n",
       "      <td>9:02:36 AM</td>\n",
       "      <td>0</td>\n",
       "      <td>425</td>\n",
       "      <td>True</td>\n",
       "    </tr>\n",
       "    <tr>\n",
       "      <th>43274</th>\n",
       "      <td>43275</td>\n",
       "      <td>2021-11-18</td>\n",
       "      <td>111</td>\n",
       "      <td>12:51:31 PM</td>\n",
       "      <td>12:57:24 PM</td>\n",
       "      <td>1:01:59 PM</td>\n",
       "      <td>353</td>\n",
       "      <td>275</td>\n",
       "      <td>False</td>\n",
       "    </tr>\n",
       "    <tr>\n",
       "      <th>51004</th>\n",
       "      <td>51005</td>\n",
       "      <td>2021-12-29</td>\n",
       "      <td>130</td>\n",
       "      <td>12:21:06 PM</td>\n",
       "      <td>12:31:08 PM</td>\n",
       "      <td>12:42:43 PM</td>\n",
       "      <td>602</td>\n",
       "      <td>695</td>\n",
       "      <td>False</td>\n",
       "    </tr>\n",
       "    <tr>\n",
       "      <th>35200</th>\n",
       "      <td>35201</td>\n",
       "      <td>2021-10-04</td>\n",
       "      <td>78</td>\n",
       "      <td>11:50:43 AM</td>\n",
       "      <td>11:50:43 AM</td>\n",
       "      <td>11:54:07 AM</td>\n",
       "      <td>0</td>\n",
       "      <td>205</td>\n",
       "      <td>True</td>\n",
       "    </tr>\n",
       "    <tr>\n",
       "      <th>42104</th>\n",
       "      <td>42105</td>\n",
       "      <td>2021-11-11</td>\n",
       "      <td>226</td>\n",
       "      <td>4:04:55 PM</td>\n",
       "      <td>4:07:35 PM</td>\n",
       "      <td>4:16:40 PM</td>\n",
       "      <td>160</td>\n",
       "      <td>545</td>\n",
       "      <td>False</td>\n",
       "    </tr>\n",
       "    <tr>\n",
       "      <th>7665</th>\n",
       "      <td>7666</td>\n",
       "      <td>2021-03-15</td>\n",
       "      <td>59</td>\n",
       "      <td>11:46:40 AM</td>\n",
       "      <td>11:46:40 AM</td>\n",
       "      <td>11:55:12 AM</td>\n",
       "      <td>0</td>\n",
       "      <td>512</td>\n",
       "      <td>True</td>\n",
       "    </tr>\n",
       "    <tr>\n",
       "      <th>28266</th>\n",
       "      <td>28267</td>\n",
       "      <td>2021-08-20</td>\n",
       "      <td>81</td>\n",
       "      <td>11:28:05 AM</td>\n",
       "      <td>11:28:05 AM</td>\n",
       "      <td>11:35:12 AM</td>\n",
       "      <td>0</td>\n",
       "      <td>427</td>\n",
       "      <td>True</td>\n",
       "    </tr>\n",
       "    <tr>\n",
       "      <th>25900</th>\n",
       "      <td>25901</td>\n",
       "      <td>2021-08-04</td>\n",
       "      <td>212</td>\n",
       "      <td>5:43:25 PM</td>\n",
       "      <td>5:43:25 PM</td>\n",
       "      <td>5:44:04 PM</td>\n",
       "      <td>0</td>\n",
       "      <td>39</td>\n",
       "      <td>True</td>\n",
       "    </tr>\n",
       "    <tr>\n",
       "      <th>31600</th>\n",
       "      <td>31601</td>\n",
       "      <td>2021-09-10</td>\n",
       "      <td>195</td>\n",
       "      <td>3:21:07 PM</td>\n",
       "      <td>3:21:07 PM</td>\n",
       "      <td>3:21:11 PM</td>\n",
       "      <td>0</td>\n",
       "      <td>4</td>\n",
       "      <td>True</td>\n",
       "    </tr>\n",
       "  </tbody>\n",
       "</table>\n",
       "</div>"
      ],
      "text/plain": [
       "       call_id        date  daily_caller call_started call_answered  \\\n",
       "17737    17738  2021-06-07            17   8:38:01 AM    8:38:01 AM   \n",
       "13331    13332  2021-05-03            16   8:55:30 AM    8:55:30 AM   \n",
       "43274    43275  2021-11-18           111  12:51:31 PM   12:57:24 PM   \n",
       "51004    51005  2021-12-29           130  12:21:06 PM   12:31:08 PM   \n",
       "35200    35201  2021-10-04            78  11:50:43 AM   11:50:43 AM   \n",
       "42104    42105  2021-11-11           226   4:04:55 PM    4:07:35 PM   \n",
       "7665      7666  2021-03-15            59  11:46:40 AM   11:46:40 AM   \n",
       "28266    28267  2021-08-20            81  11:28:05 AM   11:28:05 AM   \n",
       "25900    25901  2021-08-04           212   5:43:25 PM    5:43:25 PM   \n",
       "31600    31601  2021-09-10           195   3:21:07 PM    3:21:07 PM   \n",
       "\n",
       "        call_ended  wait_length  service_length  meets_standard  \n",
       "17737   8:40:33 AM            0             152            True  \n",
       "13331   9:02:36 AM            0             425            True  \n",
       "43274   1:01:59 PM          353             275           False  \n",
       "51004  12:42:43 PM          602             695           False  \n",
       "35200  11:54:07 AM            0             205            True  \n",
       "42104   4:16:40 PM          160             545           False  \n",
       "7665   11:55:12 AM            0             512            True  \n",
       "28266  11:35:12 AM            0             427            True  \n",
       "25900   5:44:04 PM            0              39            True  \n",
       "31600   3:21:11 PM            0               4            True  "
      ]
     },
     "execution_count": 43,
     "metadata": {},
     "output_type": "execute_result"
    }
   ],
   "source": [
    "df = pd.read_csv(\"simulated_call_centre.csv\")\n",
    "df.sample(10,random_state=40)"
   ]
  },
  {
   "attachments": {},
   "cell_type": "markdown",
   "metadata": {},
   "source": [
    "### 1.1 call_started de String para Integer"
   ]
  },
  {
   "cell_type": "code",
   "execution_count": 44,
   "metadata": {},
   "outputs": [],
   "source": [
    "def convert_to_seconds(time_string):\n",
    "    time_obj = datetime.strptime(time_string, \"%I:%M:%S %p\")\n",
    "    time_in_seconds = (time_obj.hour * 3600) + (time_obj.minute * 60) + time_obj.second\n",
    "    return time_in_seconds"
   ]
  },
  {
   "cell_type": "code",
   "execution_count": 45,
   "metadata": {},
   "outputs": [
    {
     "name": "stderr",
     "output_type": "stream",
     "text": [
      "C:\\Users\\Camilo\\AppData\\Local\\Temp\\ipykernel_18872\\4197959006.py:4: SettingWithCopyWarning: \n",
      "A value is trying to be set on a copy of a slice from a DataFrame.\n",
      "Try using .loc[row_indexer,col_indexer] = value instead\n",
      "\n",
      "See the caveats in the documentation: https://pandas.pydata.org/pandas-docs/stable/user_guide/indexing.html#returning-a-view-versus-a-copy\n",
      "  df_day['call_started'] = df_day['call_started'].apply(convert_to_seconds)\n"
     ]
    },
    {
     "data": {
      "text/html": [
       "<div>\n",
       "<style scoped>\n",
       "    .dataframe tbody tr th:only-of-type {\n",
       "        vertical-align: middle;\n",
       "    }\n",
       "\n",
       "    .dataframe tbody tr th {\n",
       "        vertical-align: top;\n",
       "    }\n",
       "\n",
       "    .dataframe thead th {\n",
       "        text-align: right;\n",
       "    }\n",
       "</style>\n",
       "<table border=\"1\" class=\"dataframe\">\n",
       "  <thead>\n",
       "    <tr style=\"text-align: right;\">\n",
       "      <th></th>\n",
       "      <th>call_id</th>\n",
       "      <th>call_started</th>\n",
       "      <th>wait_length</th>\n",
       "      <th>service_length</th>\n",
       "      <th>meets_standard</th>\n",
       "    </tr>\n",
       "  </thead>\n",
       "  <tbody>\n",
       "    <tr>\n",
       "      <th>47359</th>\n",
       "      <td>47360</td>\n",
       "      <td>28800</td>\n",
       "      <td>0</td>\n",
       "      <td>579</td>\n",
       "      <td>True</td>\n",
       "    </tr>\n",
       "    <tr>\n",
       "      <th>47360</th>\n",
       "      <td>47361</td>\n",
       "      <td>28939</td>\n",
       "      <td>0</td>\n",
       "      <td>253</td>\n",
       "      <td>True</td>\n",
       "    </tr>\n",
       "    <tr>\n",
       "      <th>47361</th>\n",
       "      <td>47362</td>\n",
       "      <td>28974</td>\n",
       "      <td>0</td>\n",
       "      <td>693</td>\n",
       "      <td>True</td>\n",
       "    </tr>\n",
       "    <tr>\n",
       "      <th>47362</th>\n",
       "      <td>47363</td>\n",
       "      <td>29198</td>\n",
       "      <td>0</td>\n",
       "      <td>68</td>\n",
       "      <td>True</td>\n",
       "    </tr>\n",
       "    <tr>\n",
       "      <th>47363</th>\n",
       "      <td>47364</td>\n",
       "      <td>29360</td>\n",
       "      <td>0</td>\n",
       "      <td>109</td>\n",
       "      <td>True</td>\n",
       "    </tr>\n",
       "    <tr>\n",
       "      <th>...</th>\n",
       "      <td>...</td>\n",
       "      <td>...</td>\n",
       "      <td>...</td>\n",
       "      <td>...</td>\n",
       "      <td>...</td>\n",
       "    </tr>\n",
       "    <tr>\n",
       "      <th>47651</th>\n",
       "      <td>47652</td>\n",
       "      <td>64077</td>\n",
       "      <td>14</td>\n",
       "      <td>385</td>\n",
       "      <td>True</td>\n",
       "    </tr>\n",
       "    <tr>\n",
       "      <th>47652</th>\n",
       "      <td>47653</td>\n",
       "      <td>64318</td>\n",
       "      <td>0</td>\n",
       "      <td>409</td>\n",
       "      <td>True</td>\n",
       "    </tr>\n",
       "    <tr>\n",
       "      <th>47653</th>\n",
       "      <td>47654</td>\n",
       "      <td>64335</td>\n",
       "      <td>0</td>\n",
       "      <td>17</td>\n",
       "      <td>True</td>\n",
       "    </tr>\n",
       "    <tr>\n",
       "      <th>47654</th>\n",
       "      <td>47655</td>\n",
       "      <td>64343</td>\n",
       "      <td>10</td>\n",
       "      <td>41</td>\n",
       "      <td>True</td>\n",
       "    </tr>\n",
       "    <tr>\n",
       "      <th>47655</th>\n",
       "      <td>47656</td>\n",
       "      <td>64348</td>\n",
       "      <td>45</td>\n",
       "      <td>200</td>\n",
       "      <td>True</td>\n",
       "    </tr>\n",
       "  </tbody>\n",
       "</table>\n",
       "<p>297 rows × 5 columns</p>\n",
       "</div>"
      ],
      "text/plain": [
       "       call_id  call_started  wait_length  service_length  meets_standard\n",
       "47359    47360         28800            0             579            True\n",
       "47360    47361         28939            0             253            True\n",
       "47361    47362         28974            0             693            True\n",
       "47362    47363         29198            0              68            True\n",
       "47363    47364         29360            0             109            True\n",
       "...        ...           ...          ...             ...             ...\n",
       "47651    47652         64077           14             385            True\n",
       "47652    47653         64318            0             409            True\n",
       "47653    47654         64335            0              17            True\n",
       "47654    47655         64343           10              41            True\n",
       "47655    47656         64348           45             200            True\n",
       "\n",
       "[297 rows x 5 columns]"
      ]
     },
     "execution_count": 45,
     "metadata": {},
     "output_type": "execute_result"
    }
   ],
   "source": [
    "day_string = df.groupby('date')['wait_length'].sum().idxmax()\n",
    "df_day = df[df[\"date\"] == day_string]\n",
    "\n",
    "df_day['call_started'] = df_day['call_started'].apply(convert_to_seconds)\n",
    "df_day.drop(columns=[\"date\",\"daily_caller\",\"call_answered\",\"call_ended\"])"
   ]
  },
  {
   "cell_type": "code",
   "execution_count": 46,
   "metadata": {},
   "outputs": [],
   "source": [
    "data = df_day['call_started'].tolist()"
   ]
  },
  {
   "attachments": {},
   "cell_type": "markdown",
   "metadata": {},
   "source": [
    "## 2. Estatística Descritiva"
   ]
  },
  {
   "attachments": {},
   "cell_type": "markdown",
   "metadata": {},
   "source": [
    "### 2.1 Medidas de centralidade"
   ]
  },
  {
   "cell_type": "code",
   "execution_count": 47,
   "metadata": {},
   "outputs": [],
   "source": [
    "call_started_dif = []\n",
    "for i in range(len(data)):\n",
    "    if i+1 >= len(data): continue\n",
    "    call_started_dif.append(data[i+1]-data[i])"
   ]
  },
  {
   "cell_type": "code",
   "execution_count": 48,
   "metadata": {},
   "outputs": [
    {
     "name": "stdout",
     "output_type": "stream",
     "text": [
      "média: 47114.03367003367\n",
      "moda: 51037\n",
      "mediana: 46936\n",
      "máximo: 64348\n",
      "mínimo: 28800\n",
      "Quartis: [39295.5, 46936.0, 56023.0]\n"
     ]
    }
   ],
   "source": [
    "print(f'média: {st.mean(data)}')\n",
    "print(f'moda: {st.mode(data)}')\n",
    "print(f'mediana: {st.median(data)}')\n",
    "print(f'máximo: {max(data)}')\n",
    "print(f'mínimo: {min(data)}')\n",
    "\n",
    "#Quartis\n",
    "data_sorted = sorted(data)\n",
    "Q2 = st.quantiles(data_sorted)\n",
    "print(f'Quartis: {Q2}')"
   ]
  },
  {
   "attachments": {},
   "cell_type": "markdown",
   "metadata": {},
   "source": [
    "### 2.2 Medidas de Dispersão"
   ]
  },
  {
   "cell_type": "code",
   "execution_count": 49,
   "metadata": {},
   "outputs": [
    {
     "name": "stdout",
     "output_type": "stream",
     "text": [
      "Amplitude: 35548\n",
      "Variância: 101099564.43805169\n",
      "Desvio padrão: 10054.82791687912\n",
      "Coeficiente de variação: 9.945471053972909e-05\n",
      "Coeficiente de Assimetria: 7.600717465317421e-10\n"
     ]
    }
   ],
   "source": [
    "amp = max(data)-min(data)\n",
    "print(f'Amplitude: {amp}')\n",
    "\n",
    "var = st.variance(data)\n",
    "print(f'Variância: {var}')\n",
    "\n",
    "std = st.stdev(data)\n",
    "print(f'Desvio padrão: {std}')\n",
    "\n",
    "var_coef = (std / var)\n",
    "print(f'Coeficiente de variação: {var_coef}') ###\n",
    "\n",
    "ass_coef = st.median(data[:len(data)//2]) / (st.median(data)**3/2) ###\n",
    "print(f'Coeficiente de Assimetria: {ass_coef}')"
   ]
  },
  {
   "attachments": {},
   "cell_type": "markdown",
   "metadata": {},
   "source": [
    "## 3. Análise de outliers"
   ]
  },
  {
   "cell_type": "code",
   "execution_count": 50,
   "metadata": {},
   "outputs": [
    {
     "name": "stdout",
     "output_type": "stream",
     "text": [
      "Quartis: [39295.5, 46936.0, 56023.0]\n",
      "Amplitude Interquartil: 16727.5\n"
     ]
    }
   ],
   "source": [
    "# Gerar os quartis\n",
    "Q = st.quantiles(data_sorted)\n",
    "A = Q[2] - Q[0]\n",
    "print(f'Quartis: {Q}')\n",
    "print(f'Amplitude Interquartil: {A}')"
   ]
  },
  {
   "cell_type": "code",
   "execution_count": 51,
   "metadata": {},
   "outputs": [
    {
     "name": "stdout",
     "output_type": "stream",
     "text": [
      " 0 outlier(s) moderado(s)\n",
      " [] \n",
      "\n",
      " 0 outlier(s) extremo(s)\n",
      " []\n"
     ]
    }
   ],
   "source": [
    "moderado = []\n",
    "extremo = []\n",
    "for i in data:\n",
    "    if i < Q[0]-1.5*A or i > Q[2]+1.5*A: moderado.append(i)\n",
    "    if i < Q[0]-3*A or i > Q[2]+3*A: extremo.append(i)\n",
    "\n",
    "print(f' {len(moderado)} outlier(s) moderado(s)\\n',moderado,'\\n\\n',f'{len(extremo)} outlier(s) extremo(s)\\n',extremo)"
   ]
  },
  {
   "attachments": {},
   "cell_type": "markdown",
   "metadata": {},
   "source": [
    "## 4. Teste de Aderência (Método KS)"
   ]
  },
  {
   "attachments": {},
   "cell_type": "markdown",
   "metadata": {},
   "source": [
    "### 4.1 Histograma"
   ]
  },
  {
   "cell_type": "code",
   "execution_count": 52,
   "metadata": {},
   "outputs": [],
   "source": [
    "# Histograma\n",
    "def histograma(data,show_extra=False):\n",
    "    plt.boxplot(data)\n",
    "    plt.show()\n",
    "\n",
    "    k = round(1+3.3*math.log10(len(data)))\n",
    "    print('Número de classes:',k)\n",
    "\n",
    "    h = (max(data)-min(data)) / k\n",
    "    print('Tamanho do intervalo:',h)\n",
    "\n",
    "    if show_extra:\n",
    "        c,b=np.histogram(data)\n",
    "        print(\"tamanho das classes: \",c)\n",
    "        print(\"intervalos:\",b)\n",
    "\n",
    "    plt.hist(data, bins=k,edgecolor=\"black\")\n",
    "    plt.show()"
   ]
  },
  {
   "cell_type": "code",
   "execution_count": 53,
   "metadata": {},
   "outputs": [
    {
     "data": {
      "image/png": "[encoded data removed]",
      "text/plain": [
       "<Figure size 432x288 with 1 Axes>"
      ]
     },
     "metadata": {
      "needs_background": "light"
     },
     "output_type": "display_data"
    },
    {
     "name": "stdout",
     "output_type": "stream",
     "text": [
      "Número de classes: 9\n",
      "Tamanho do intervalo: 3949.777777777778\n",
      "tamanho das classes:  [22 29 25 34 35 35 28 28 28 33]\n",
      "intervalos: [28800.  32354.8 35909.6 39464.4 43019.2 46574.  50128.8 53683.6 57238.4\n",
      " 60793.2 64348. ]\n"
     ]
    },
    {
     "data": {
      "image/png": "[encoded data removed]",
      "text/plain": [
       "<Figure size 432x288 with 1 Axes>"
      ]
     },
     "metadata": {
      "needs_background": "light"
     },
     "output_type": "display_data"
    }
   ],
   "source": [
    "histograma(data,True)"
   ]
  },
  {
   "attachments": {},
   "cell_type": "markdown",
   "metadata": {},
   "source": [
    "### 4.2 Função do Teste de Kolmogorov-Smirnov"
   ]
  },
  {
   "cell_type": "code",
   "execution_count": 54,
   "metadata": {},
   "outputs": [],
   "source": [
    "def KS(data,func = None): # método ks para alpha = 0.05\n",
    "    df = pd.DataFrame()\n",
    "\n",
    "    list_ = data.copy()\n",
    "\n",
    "    sum = 0\n",
    "    FAO = []\n",
    "    FAON = []\n",
    "    s_data = sorted(list_)\n",
    "    size = len(list_)\n",
    "\n",
    "    VO = list(dict.fromkeys(s_data))\n",
    "    FO = pd.Series(s_data).value_counts().sort_index(ascending=True).tolist()\n",
    "\n",
    "    for i in FO:\n",
    "        sum += i\n",
    "        FAO.append(sum)\n",
    "        div = sum/size\n",
    "        FAON.append(div)\n",
    "\n",
    "    df['V.O.'] = VO\n",
    "    df['F.O.'] = FO\n",
    "    df['F.A.O.'] = FAO\n",
    "    df['F.A.O.N.'] = FAON\n",
    "\n",
    "    if func == \"uniforme\":\n",
    "        a = df['V.O.'].min()\n",
    "        b = df['V.O.'].max()\n",
    "\n",
    "        df['F.T.A.N.'] = sp.uniform.cdf(df['V.O.'].tolist(),loc = a,scale = b)\n",
    "\n",
    "    elif func == \"exponencial\":\n",
    "        mean = st.mean(list_)\n",
    "\n",
    "        df['F.T.A.N.'] = sp.expon.cdf(df['V.O.'].tolist(),scale = mean)\n",
    "\n",
    "    elif func == \"normal\":\n",
    "        MU = st.mean(list_)\n",
    "        SIGMA = st.stdev(list_)\n",
    "\n",
    "        df['F.T.A.N.'] = sp.norm.cdf(df['V.O.'].tolist(),loc=MU,scale=SIGMA)\n",
    "    else:\n",
    "        raise TypeError(\"Função de distribuição inválida\")\n",
    "\n",
    "    df['D'] = abs(df['F.A.O.N.'] - df['F.T.A.N.'])\n",
    "\n",
    "    # Procurando o alpha, o maior valor da coluna D na tabela\n",
    "\n",
    "    alpha = max(df['D'])\n",
    "    print('Valor de α:',alpha)\n",
    "\n",
    "    D_crit = lambda x: 1.36 / math.sqrt(x)\n",
    "    print('Valor de D crítico',D_crit(size))\n",
    "\n",
    "    if D_crit(len(list_)) > alpha:\n",
    "        print('Como o D crítico > α, então a distribuição aderente ao conjunto de dados.')\n",
    "    else:\n",
    "        print('A distribuição não é aderente ao conjunto de dados.')\n",
    "\n",
    "    return df"
   ]
  },
  {
   "cell_type": "code",
   "execution_count": 63,
   "metadata": {},
   "outputs": [
    {
     "name": "stdout",
     "output_type": "stream",
     "text": [
      "Valor de α: 0.07094732766985667\n",
      "Valor de D crítico 0.0789152040332497\n",
      "Como o D crítico > α, então a distribuição aderente ao conjunto de dados.\n"
     ]
    }
   ],
   "source": [
    "ks_df = KS(data,\"normal\")"
   ]
  },
  {
   "attachments": {},
   "cell_type": "markdown",
   "metadata": {},
   "source": [
    "### 4.3 Resultados"
   ]
  },
  {
   "cell_type": "code",
   "execution_count": 64,
   "metadata": {},
   "outputs": [
    {
     "data": {
      "image/png": "[encoded data removed]",
      "text/plain": [
       "<Figure size 432x288 with 1 Axes>"
      ]
     },
     "metadata": {
      "needs_background": "light"
     },
     "output_type": "display_data"
    }
   ],
   "source": [
    "plt.title('Teste de Aderência')\n",
    "plt.plot(ks_df['F.A.O.N.'],label = 'Frequência acumulada observada normalizada',ds = \"steps\")\n",
    "plt.plot(ks_df['F.T.A.N.'],label = 'Frequência Acumulada Teórica Normalizada')\n",
    "plt.legend()\n",
    "plt.show()"
   ]
  }
 ],
 "metadata": {
  "kernelspec": {
   "display_name": "base",
   "language": "python",
   "name": "python3"
  },
  "language_info": {
   "codemirror_mode": {
    "name": "ipython",
    "version": 3
   },
   "file_extension": ".py",
   "mimetype": "text/x-python",
   "name": "python",
   "nbconvert_exporter": "python",
   "pygments_lexer": "ipython3",
   "version": "3.9.12"
  },
  "orig_nbformat": 4
 },
 "nbformat": 4,
 "nbformat_minor": 2
}
