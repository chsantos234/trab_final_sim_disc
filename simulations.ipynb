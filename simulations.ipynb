{
 "cells": [
  {
   "cell_type": "code",
   "execution_count": 2,
   "metadata": {},
   "outputs": [],
   "source": [
    "import random as rd\n",
    "import simpy"
   ]
  },
  {
   "attachments": {},
   "cell_type": "markdown",
   "metadata": {},
   "source": [
    "## Simulação Inicial"
   ]
  },
  {
   "cell_type": "code",
   "execution_count": 3,
   "metadata": {},
   "outputs": [],
   "source": [
    "#variáveis da simulação\n",
    "SEED = True\n",
    "RANDOM_SEED = 616\n",
    "NUM_ATENDENTES = 4\n",
    "SIM_TIME = 200"
   ]
  },
  {
   "cell_type": "code",
   "execution_count": 4,
   "metadata": {},
   "outputs": [],
   "source": [
    "class CallCentre:\n",
    "\n",
    "    def __init__(self,env,num_atendentes):\n",
    "        self.env = env\n",
    "        self.atendente = simpy.Resource(env,num_atendentes)\n",
    "        self.espera = []\n",
    "\n",
    "\n",
    "    def atendimento(self): # executa o tempo de atendimento\n",
    "\n",
    "        tempo_de_atendimento = 150 # definir e variar valor\n",
    "\n",
    "        yield self.env.timeout(tempo_de_atendimento)\n",
    "        #print(f\"Cliente {cliente} é atendido as {self.env.now}\")\n",
    "\n",
    "def cliente(env,nome,CC): # gera um cliente\n",
    "\n",
    "    inicio = env.now\n",
    "\n",
    "    print(f\"Cliente {nome} solicita atendimento as {inicio}\")\n",
    "\n",
    "    with CC.atendente.request() as request:\n",
    "\n",
    "        yield request\n",
    "        atendimento = env.now\n",
    "        print(f\"Cliente {nome} inicia atendimento as {atendimento}\")\n",
    "\n",
    "        yield env.process(CC.atendimento(nome))\n",
    "        print(f\"Cliente {nome} desliga as {env.now}\")\n",
    "        CC.espera.append(atendimento)\n",
    "\n",
    "\n",
    "def run(env,num_atendentes): # executa a simulação\n",
    "    nome = 1\n",
    "\n",
    "    call_centre = CallCentre(env,num_atendentes)\n",
    "\n",
    "    env.process(cliente(env,nome,call_centre))\n",
    "\n",
    "    while True:\n",
    "        yield env.timeout(rd.randint(2,10)) # definir e variar valor\n",
    "        nome += 1\n",
    "        env.process(cliente(env,nome,call_centre))\n",
    "\n",
    "    return call_centre.espera"
   ]
  },
  {
   "cell_type": "code",
   "execution_count": 5,
   "metadata": {},
   "outputs": [
    {
     "name": "stdout",
     "output_type": "stream",
     "text": [
      "saída:\n",
      "Cliente 1 solicita atendimento as 0\n",
      "Cliente 1 inicia atendimento as 0\n",
      "Cliente 2 solicita atendimento as 2\n",
      "Cliente 2 inicia atendimento as 2\n",
      "Cliente 3 solicita atendimento as 11\n",
      "Cliente 3 inicia atendimento as 11\n",
      "Cliente 4 solicita atendimento as 21\n",
      "Cliente 4 inicia atendimento as 21\n",
      "Cliente 5 solicita atendimento as 31\n",
      "Cliente 6 solicita atendimento as 35\n",
      "Cliente 7 solicita atendimento as 42\n",
      "Cliente 8 solicita atendimento as 52\n",
      "Cliente 9 solicita atendimento as 56\n",
      "Cliente 10 solicita atendimento as 61\n",
      "Cliente 11 solicita atendimento as 66\n",
      "Cliente 12 solicita atendimento as 72\n",
      "Cliente 13 solicita atendimento as 82\n",
      "Cliente 14 solicita atendimento as 87\n",
      "Cliente 15 solicita atendimento as 90\n",
      "Cliente 16 solicita atendimento as 94\n",
      "Cliente 17 solicita atendimento as 101\n",
      "Cliente 18 solicita atendimento as 106\n",
      "Cliente 19 solicita atendimento as 111\n",
      "Cliente 20 solicita atendimento as 117\n",
      "Cliente 21 solicita atendimento as 124\n",
      "Cliente 22 solicita atendimento as 126\n",
      "Cliente 23 solicita atendimento as 134\n",
      "Cliente 24 solicita atendimento as 136\n",
      "Cliente 25 solicita atendimento as 139\n",
      "Cliente 26 solicita atendimento as 142\n",
      "Cliente 27 solicita atendimento as 147\n",
      "Cliente 1 desliga as 150\n",
      "Cliente 5 inicia atendimento as 150\n",
      "Cliente 28 solicita atendimento as 151\n",
      "Cliente 2 desliga as 152\n",
      "Cliente 6 inicia atendimento as 152\n",
      "Cliente 29 solicita atendimento as 154\n",
      "Cliente 3 desliga as 161\n",
      "Cliente 7 inicia atendimento as 161\n",
      "Cliente 30 solicita atendimento as 163\n",
      "Cliente 4 desliga as 171\n",
      "Cliente 8 inicia atendimento as 171\n",
      "Cliente 31 solicita atendimento as 173\n",
      "Cliente 32 solicita atendimento as 182\n",
      "Cliente 33 solicita atendimento as 185\n",
      "Cliente 34 solicita atendimento as 191\n"
     ]
    }
   ],
   "source": [
    "if SEED: rd.seed(RANDOM_SEED)\n",
    "\n",
    "env = simpy.Environment()\n",
    "env.process(run(env,NUM_ATENDENTES))\n",
    "\n",
    "print(\"saída:\")\n",
    "env.run(until=SIM_TIME)"
   ]
  },
  {
   "attachments": {},
   "cell_type": "markdown",
   "metadata": {},
   "source": [
    "## Simulação com Melhoria"
   ]
  }
 ],
 "metadata": {
  "kernelspec": {
   "display_name": "Python 3 (ipykernel)",
   "language": "python",
   "name": "python3"
  },
  "language_info": {
   "codemirror_mode": {
    "name": "ipython",
    "version": 3
   },
   "file_extension": ".py",
   "mimetype": "text/x-python",
   "name": "python",
   "nbconvert_exporter": "python",
   "pygments_lexer": "ipython3",
   "version": "3.9.12"
  }
 },
 "nbformat": 4,
 "nbformat_minor": 2
}
